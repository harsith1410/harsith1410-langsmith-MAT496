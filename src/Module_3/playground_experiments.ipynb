{
 "cells": [
  {
   "cell_type": "markdown",
   "metadata": {},
   "source": [
    "# Run Experiments in Playground"
   ]
  },
  {
   "cell_type": "markdown",
   "metadata": {},
   "source": [
    "### Setup"
   ]
  },
  {
   "cell_type": "code",
   "metadata": {
    "ExecuteTime": {
     "end_time": "2025-10-07T13:09:58.888130Z",
     "start_time": "2025-10-07T13:09:58.859390Z"
    }
   },
   "source": [
    "# Or you can use a .env file\n",
    "from dotenv import load_dotenv\n",
    "load_dotenv(override=True)"
   ],
   "outputs": [
    {
     "data": {
      "text/plain": [
       "True"
      ]
     },
     "execution_count": 1,
     "metadata": {},
     "output_type": "execute_result"
    }
   ],
   "execution_count": 1
  },
  {
   "cell_type": "markdown",
   "metadata": {},
   "source": [
    "### Create a Dataset"
   ]
  },
  {
   "cell_type": "markdown",
   "metadata": {},
   "source": [
    "Let's create a toy example dataset to run experiments over for a prompt"
   ]
  },
  {
   "cell_type": "code",
   "metadata": {
    "ExecuteTime": {
     "end_time": "2025-10-07T13:35:06.990544Z",
     "start_time": "2025-10-07T13:35:04.239347Z"
    }
   },
   "source": [
    "from langsmith import Client\n",
    "\n",
    "example_inputs = [\n",
    "(\"What color is the sky?\", \"The sky is blue\"),\n",
    "(\"What color is grass?\", \"Grass is green\"),\n",
    "(\"What color is dirt?\", \"Dirt is brown\"),\n",
    "    (\"What color is water?\", \"Water is colourless\"),\n",
    "    (\"What color is the towel?\", \"The towel is orange\"),\n",
    "]\n",
    "\n",
    "client = Client()\n",
    "dataset_name = \"Sample Questions\"\n",
    "\n",
    "dataset = client.create_dataset(\n",
    "  dataset_name=dataset_name, description=\"Sample questions about color\",\n",
    ")\n",
    "\n",
    "inputs = [{\"question\": input_prompt} for input_prompt, _ in example_inputs]\n",
    "outputs = [{\"output\": output_answer} for _, output_answer in example_inputs]\n",
    "\n",
    "client.create_examples(\n",
    "  inputs=inputs,\n",
    "  outputs=outputs,\n",
    "  dataset_id=dataset.id,\n",
    ")"
   ],
   "outputs": [
    {
     "data": {
      "text/plain": [
       "{'example_ids': ['858d727a-5c4f-4abe-8e1c-c6e50f4d49e6',\n",
       "  '0e9875ec-4e7f-4d7e-8085-b0aff068492e',\n",
       "  '6407c98e-ac05-4cbf-b17f-4126ac79e17a',\n",
       "  '0887fcc1-ba3b-418f-850c-3f2b74db794e',\n",
       "  'fd098a92-8ede-4f9b-a992-aa525db53a96'],\n",
       " 'count': 5}"
      ]
     },
     "execution_count": 2,
     "metadata": {},
     "output_type": "execute_result"
    }
   ],
   "execution_count": 2
  }
 ],
 "metadata": {
  "kernelspec": {
   "display_name": "ls-academy",
   "language": "python",
   "name": "python3"
  },
  "language_info": {
   "codemirror_mode": {
    "name": "ipython",
    "version": 3
   },
   "file_extension": ".py",
   "mimetype": "text/x-python",
   "name": "python",
   "nbconvert_exporter": "python",
   "pygments_lexer": "ipython3",
   "version": "3.9.6"
  }
 },
 "nbformat": 4,
 "nbformat_minor": 4
}
